{
 "cells": [
  {
   "cell_type": "markdown",
   "metadata": {},
   "source": [
    "# Indeed Job Scraper\n",
    "\n",
    "### How it works:\n",
    "\n",
    "You provide a set of standard input parameters: \n",
    "- **search query**\n",
    "- **location**\n",
    "- **mile/range**\n",
    "\n",
    "in addition to two non-standard paramaters: \n",
    "- **ordered_keywords**: Job roles are rated based on this ordered list. This is a list of keywords to search for in job descriptions provided in order of preference. \n",
    "- **exclude_keywords**: A list of keywords to search for in a job _title_ which renders the rating of that job zero. E.g. if you really hate roles as a recruiter you would include: \"Recruitment\" or \"Headhunter\"\n",
    "\n",
    "The web scraper searches through 100 pages of indeed job listings with those paramaters and returns a dataframe containing all the listings ordered by the \"rating\" metric based on the ordered list of keywords.\n",
    "\n",
    "You can also then output this dataframe as an excel sheet for convenience. "
   ]
  },
  {
   "cell_type": "code",
   "execution_count": 4,
   "metadata": {},
   "outputs": [],
   "source": [
    "# Imports\n",
    "from bs4 import BeautifulSoup\n",
    "import requests, json\n",
    "import pandas as pd"
   ]
  },
  {
   "cell_type": "code",
   "execution_count": 5,
   "metadata": {},
   "outputs": [],
   "source": [
    "# Scraping parameters\n",
    "default_parameters = {\n",
    "    'search_query':'Graduate Investment',\n",
    "    'location':'Enter_Your_Postcode_Here',\n",
    "    'miles':15,\n",
    "    'ordered_keywords':['Investment','Banking','Finance','Hedge','Python','Fintech','SQL','Analysis','Modelling'],\n",
    "    'exclude_keywords':['Recruitment','Headhunter']\n",
    "}"
   ]
  },
  {
   "cell_type": "code",
   "execution_count": 6,
   "metadata": {},
   "outputs": [],
   "source": [
    "def create_url(parameters):\n",
    "    # create base url for all further searches\n",
    "    what = parameters['search_query'].replace(\" \",\"+\")\n",
    "    where = parameters['location'].replace(\" \",\"+\")\n",
    "    base_url = \"https://www.indeed.co.uk/jobs?q={}&l={}&radius={}\".format(\n",
    "        what,where,parameters['miles'])\n",
    "    return base_url"
   ]
  },
  {
   "cell_type": "code",
   "execution_count": 7,
   "metadata": {},
   "outputs": [],
   "source": [
    "def rate_job(j_title, j_soup, parameters):\n",
    "    # rate job by keywords\n",
    "    description = j_soup.find(id=\"jobDescriptionText\").get_text()\n",
    "    keywords = parameters['ordered_keywords']\n",
    "    exclude_keywords = parameters['exclude_keywords']\n",
    "    keywords_present = []\n",
    "    rating = 0\n",
    "    \n",
    "    # Check for keyword, add value to rating depending on ranking\n",
    "    for index,keyword in enumerate(keywords):\n",
    "        if keyword in description:\n",
    "            rating += len(keywords) - index\n",
    "            keywords_present.append(keyword)\n",
    "    \n",
    "    # Normalise rating\n",
    "    rating = rating/sum(range(1,len(keywords)+1))\n",
    "    \n",
    "    # Check for excluded keywords\n",
    "    for keyword in exclude_keywords:\n",
    "        if keyword in j_title:\n",
    "            rating = 0\n",
    "            break\n",
    "        else:\n",
    "            pass\n",
    "    \n",
    "    return description,rating,keywords_present"
   ]
  },
  {
   "cell_type": "code",
   "execution_count": 8,
   "metadata": {},
   "outputs": [],
   "source": [
    "def get_job_details(job,parameters):\n",
    "    \n",
    "    # Get link and title\n",
    "    job_url = job.find(class_='title').a['href']\n",
    "    \n",
    "    # Correct for truncated URLs\n",
    "    job_url = \"https://www.indeed.co.uk\" + job_url if (job_url.startswith(\"/\")) else job_url\n",
    "    job_page = requests.get(job_url)\n",
    "    job_soup = BeautifulSoup(job_page.content,'html.parser')\n",
    "    \n",
    "    # Give URL after redirect (ads/analytics etc.)\n",
    "    job_url = job_page.url \n",
    "    \n",
    "    # Get job title and company name\n",
    "    job_title = job.find(class_='title').a['title']\n",
    "    job_company = job_soup.find(class_=\"icl-u-lg-mr--sm\").get_text()\n",
    "    \n",
    "    # Get description, rating and present keywords\n",
    "    job_description, job_rating, job_keywords_present = rate_job(job_title,job_soup,parameters)\n",
    "    \n",
    "    return job_title, job_company, job_url, job_description, job_rating, job_keywords_present"
   ]
  },
  {
   "cell_type": "code",
   "execution_count": 9,
   "metadata": {},
   "outputs": [],
   "source": [
    "def scrape(parameters):\n",
    "    \n",
    "    # Create base url for all further searches\n",
    "    base_url = create_url(parameters)\n",
    "    \n",
    "    # Output list and frame\n",
    "    output = []\n",
    "    \n",
    "    for x in range(0,100):\n",
    "        if(x==0):\n",
    "            page_append = \"\"\n",
    "        else: \n",
    "            page_append = \"&start=\" + str(x*10)\n",
    "            \n",
    "        # get page\n",
    "        current_page = requests.get(base_url+page_append,timeout=5)\n",
    "        page_soup = BeautifulSoup(current_page.content,\"html.parser\")\n",
    "        \n",
    "        for job in page_soup.select(\".jobsearch-SerpJobCard\"):\n",
    "            job_title, job_company, job_url, job_description, job_rating, job_keywords_present = get_job_details(job,parameters)\n",
    "            output.append([job_rating,job_title,job_company,job_description,job_url,job_keywords_present,x+1])\n",
    "            \n",
    "        print(\"Page {} completed\".format(x+1),end=\"\\r\")\n",
    "        \n",
    "    output_frame = pd.DataFrame(\n",
    "        output,columns=['Rating','Job Title','Company','Description','Job URL','Keywords Present','Page Found']).sort_values(\n",
    "        by='Rating',ascending=False).reset_index(drop=True)\n",
    "\n",
    "    return output_frame\n",
    "        "
   ]
  },
  {
   "cell_type": "code",
   "execution_count": 10,
   "metadata": {},
   "outputs": [
    {
     "name": "stdout",
     "output_type": "stream",
     "text": [
      "Page 100 completed\r"
     ]
    }
   ],
   "source": [
    "jobs = scrape(default_parameters)"
   ]
  },
  {
   "cell_type": "code",
   "execution_count": 14,
   "metadata": {},
   "outputs": [
    {
     "data": {
      "text/html": [
       "<div>\n",
       "<style scoped>\n",
       "    .dataframe tbody tr th:only-of-type {\n",
       "        vertical-align: middle;\n",
       "    }\n",
       "\n",
       "    .dataframe tbody tr th {\n",
       "        vertical-align: top;\n",
       "    }\n",
       "\n",
       "    .dataframe thead th {\n",
       "        text-align: right;\n",
       "    }\n",
       "</style>\n",
       "<table border=\"1\" class=\"dataframe\">\n",
       "  <thead>\n",
       "    <tr style=\"text-align: right;\">\n",
       "      <th></th>\n",
       "      <th>Rating</th>\n",
       "      <th>Job Title</th>\n",
       "      <th>Company</th>\n",
       "      <th>Description</th>\n",
       "      <th>Job URL</th>\n",
       "      <th>Keywords Present</th>\n",
       "      <th>Page Found</th>\n",
       "    </tr>\n",
       "  </thead>\n",
       "  <tbody>\n",
       "    <tr>\n",
       "      <th>0</th>\n",
       "      <td>0.733333</td>\n",
       "      <td>Graduate/ Junior C# Developer - Hedge Fund - L...</td>\n",
       "      <td>McGregor Boyall</td>\n",
       "      <td>C#, SQL Server, Hedge Fund, Graduate, Junior, ...</td>\n",
       "      <td>https://www.indeed.co.uk/viewjob?jk=33f5c1005e...</td>\n",
       "      <td>[Investment, Banking, Finance, Hedge, SQL]</td>\n",
       "      <td>31</td>\n",
       "    </tr>\n",
       "    <tr>\n",
       "      <th>1</th>\n",
       "      <td>0.711111</td>\n",
       "      <td>Junior Digital Developer -M/F-VIE-London</td>\n",
       "      <td>Société Générale</td>\n",
       "      <td>Responsibilities\\nKey purposes of the role:\\n\\...</td>\n",
       "      <td>https://www.indeed.co.uk/viewjob?jk=d92a67aec3...</td>\n",
       "      <td>[Investment, Banking, Finance, Python, SQL]</td>\n",
       "      <td>56</td>\n",
       "    </tr>\n",
       "    <tr>\n",
       "      <th>2</th>\n",
       "      <td>0.666667</td>\n",
       "      <td>Manager/Director – Legal</td>\n",
       "      <td>Ruella James</td>\n",
       "      <td>Leading recruitment consultancy with a strong ...</td>\n",
       "      <td>https://www.indeed.co.uk/viewjob?jk=3cfb44d39a...</td>\n",
       "      <td>[Investment, Banking, Finance, Hedge]</td>\n",
       "      <td>70</td>\n",
       "    </tr>\n",
       "    <tr>\n",
       "      <th>3</th>\n",
       "      <td>0.666667</td>\n",
       "      <td>Trainee/Entry Level – Sales/Marketing</td>\n",
       "      <td>Ruella James</td>\n",
       "      <td>Specialist Sales and Marketing FMCG Recruitmen...</td>\n",
       "      <td>https://www.indeed.co.uk/viewjob?jk=af40e885d9...</td>\n",
       "      <td>[Investment, Banking, Finance, Hedge]</td>\n",
       "      <td>54</td>\n",
       "    </tr>\n",
       "    <tr>\n",
       "      <th>4</th>\n",
       "      <td>0.666667</td>\n",
       "      <td>Senior Consultant – Accountancy/Finance</td>\n",
       "      <td>Ruella James</td>\n",
       "      <td>Leading Professional and Financial Recruitment...</td>\n",
       "      <td>https://www.indeed.co.uk/viewjob?jk=d22f214780...</td>\n",
       "      <td>[Investment, Banking, Finance, Hedge]</td>\n",
       "      <td>71</td>\n",
       "    </tr>\n",
       "  </tbody>\n",
       "</table>\n",
       "</div>"
      ],
      "text/plain": [
       "     Rating                                          Job Title  \\\n",
       "0  0.733333  Graduate/ Junior C# Developer - Hedge Fund - L...   \n",
       "1  0.711111           Junior Digital Developer -M/F-VIE-London   \n",
       "2  0.666667                           Manager/Director – Legal   \n",
       "3  0.666667              Trainee/Entry Level – Sales/Marketing   \n",
       "4  0.666667            Senior Consultant – Accountancy/Finance   \n",
       "\n",
       "            Company                                        Description  \\\n",
       "0   McGregor Boyall  C#, SQL Server, Hedge Fund, Graduate, Junior, ...   \n",
       "1  Société Générale  Responsibilities\\nKey purposes of the role:\\n\\...   \n",
       "2      Ruella James  Leading recruitment consultancy with a strong ...   \n",
       "3      Ruella James  Specialist Sales and Marketing FMCG Recruitmen...   \n",
       "4      Ruella James  Leading Professional and Financial Recruitment...   \n",
       "\n",
       "                                             Job URL  \\\n",
       "0  https://www.indeed.co.uk/viewjob?jk=33f5c1005e...   \n",
       "1  https://www.indeed.co.uk/viewjob?jk=d92a67aec3...   \n",
       "2  https://www.indeed.co.uk/viewjob?jk=3cfb44d39a...   \n",
       "3  https://www.indeed.co.uk/viewjob?jk=af40e885d9...   \n",
       "4  https://www.indeed.co.uk/viewjob?jk=d22f214780...   \n",
       "\n",
       "                              Keywords Present  Page Found  \n",
       "0   [Investment, Banking, Finance, Hedge, SQL]          31  \n",
       "1  [Investment, Banking, Finance, Python, SQL]          56  \n",
       "2        [Investment, Banking, Finance, Hedge]          70  \n",
       "3        [Investment, Banking, Finance, Hedge]          54  \n",
       "4        [Investment, Banking, Finance, Hedge]          71  "
      ]
     },
     "metadata": {},
     "output_type": "display_data"
    }
   ],
   "source": [
    "display(jobs.head())"
   ]
  },
  {
   "cell_type": "markdown",
   "metadata": {},
   "source": [
    "# Output to Excel"
   ]
  },
  {
   "cell_type": "code",
   "execution_count": 13,
   "metadata": {
    "scrolled": false
   },
   "outputs": [],
   "source": [
    "with pd.ExcelWriter('Excel Output.xlsx',options={'strings_to_urls': False}) as writer:\n",
    "    jobs.to_excel(writer,index=False)"
   ]
  },
  {
   "cell_type": "markdown",
   "metadata": {},
   "source": [
    "# Example output"
   ]
  },
  {
   "cell_type": "markdown",
   "metadata": {},
   "source": [
    "<img src=\"img/Example_Output.PNG\">"
   ]
  }
 ],
 "metadata": {
  "kernelspec": {
   "display_name": "Python 3",
   "language": "python",
   "name": "python3"
  },
  "language_info": {
   "codemirror_mode": {
    "name": "ipython",
    "version": 3
   },
   "file_extension": ".py",
   "mimetype": "text/x-python",
   "name": "python",
   "nbconvert_exporter": "python",
   "pygments_lexer": "ipython3",
   "version": "3.6.5"
  },
  "varInspector": {
   "cols": {
    "lenName": 16,
    "lenType": 16,
    "lenVar": 40
   },
   "kernels_config": {
    "python": {
     "delete_cmd_postfix": "",
     "delete_cmd_prefix": "del ",
     "library": "var_list.py",
     "varRefreshCmd": "print(var_dic_list())"
    },
    "r": {
     "delete_cmd_postfix": ") ",
     "delete_cmd_prefix": "rm(",
     "library": "var_list.r",
     "varRefreshCmd": "cat(var_dic_list()) "
    }
   },
   "types_to_exclude": [
    "module",
    "function",
    "builtin_function_or_method",
    "instance",
    "_Feature"
   ],
   "window_display": false
  }
 },
 "nbformat": 4,
 "nbformat_minor": 2
}
